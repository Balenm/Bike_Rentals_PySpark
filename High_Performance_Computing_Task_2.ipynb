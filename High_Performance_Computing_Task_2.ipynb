{
  "nbformat": 4,
  "nbformat_minor": 0,
  "metadata": {
    "colab": {
      "provenance": [],
      "authorship_tag": "ABX9TyMUwjmOQsXu38eZ3M+noaJ7",
      "include_colab_link": true
    },
    "kernelspec": {
      "name": "python3",
      "display_name": "Python 3"
    },
    "language_info": {
      "name": "python"
    },
    "gpuClass": "standard"
  },
  "cells": [
    {
      "cell_type": "markdown",
      "metadata": {
        "id": "view-in-github",
        "colab_type": "text"
      },
      "source": [
        "<a href=\"https://colab.research.google.com/github/Balenm/Bike_Rentals_PySpark/blob/main/High_Performance_Computing_Task_2.ipynb\" target=\"_parent\"><img src=\"https://colab.research.google.com/assets/colab-badge.svg\" alt=\"Open In Colab\"/></a>"
      ]
    },
    {
      "cell_type": "markdown",
      "source": [
        "Installing Spark"
      ],
      "metadata": {
        "id": "2H90urgVE0Xu"
      }
    },
    {
      "cell_type": "code",
      "source": [
        "# This block of code is useful to install and configure latest version of PySpark on Jupyter Notebook (Stand-alone)\n",
        "!rm -f spark-3.3.[01]-bin-hadoop3.tgz* \n",
        "!rm -rf spark-3.3.[01]-bin-hadoop3\n",
        "\n",
        "!apt-get install openjdk-8-jdk-headless -qq > /dev/null\n",
        "!wget https://dlcdn.apache.org/spark/spark-3.4.0/spark-3.4.0-bin-hadoop3.tgz\n",
        "!tar -xf spark-3.4.0-bin-hadoop3.tgz\n",
        "\n",
        "#----------------------- Initiating the Session ----------------------------\n",
        "!pip3 install findspark\n",
        "import os\n",
        "os.environ[\"JAVA_HOME\"] = \"/usr/lib/jvm/java-8-openjdk-amd64\"\n",
        "os.environ[\"SPARK_HOME\"] = \"/content/spark-3.4.0-bin-hadoop3\"\n",
        "import findspark\n",
        "findspark.init()\n",
        "from pyspark import SparkConf, SparkContext\n",
        "# the next line gives us 'local' mode. try 'local[2]' to use 2 cores or 'master:NNNN' to run on Spark standalone cluster at port NNNN\n",
        "spark_conf = SparkConf().setMaster('local[*]').setAppName('Cycle_hire')\n",
        "sc = SparkContext(conf=spark_conf)\n",
        "# see what we have by examining the Spark User Interface\n",
        "from pyspark.sql import *\n",
        "from pyspark.sql.functions import *\n",
        "SparkSession.builder.getOrCreate()"
      ],
      "metadata": {
        "id": "pctLsjHjxTVv"
      },
      "execution_count": null,
      "outputs": []
    },
    {
      "cell_type": "code",
      "source": [
        "%%capture\n",
        "!pip install pyspark"
      ],
      "metadata": {
        "id": "yPfpeMpoaKRv"
      },
      "execution_count": 1,
      "outputs": []
    },
    {
      "cell_type": "markdown",
      "source": [
        "Importing Apache spark libraries"
      ],
      "metadata": {
        "id": "vP5Hy424E2kp"
      }
    },
    {
      "cell_type": "code",
      "execution_count": 2,
      "metadata": {
        "id": "YoonnrdzZi0e"
      },
      "outputs": [],
      "source": [
        "from pyspark.sql import *\n",
        "from pyspark.sql.functions import *"
      ]
    },
    {
      "cell_type": "markdown",
      "source": [
        "Loading the dataset and unzip the files:"
      ],
      "metadata": {
        "id": "UDeMfBkYGo8f"
      }
    },
    {
      "cell_type": "code",
      "source": [
        "%%capture\n",
        "!wget https://cycling.data.tfl.gov.uk/usage-stats/cyclehireusagestats-2014.zip\n",
        "!unzip cyclehireusagestats-2014.zip"
      ],
      "metadata": {
        "id": "--HlvWM0FjiO"
      },
      "execution_count": 3,
      "outputs": []
    },
    {
      "cell_type": "markdown",
      "source": [
        "Checking the directory ans showing the files:"
      ],
      "metadata": {
        "id": "RLiGamgnHzWT"
      }
    },
    {
      "cell_type": "code",
      "source": [
        "!ls"
      ],
      "metadata": {
        "colab": {
          "base_uri": "https://localhost:8080/"
        },
        "id": "-Y5S7SOxGd0H",
        "outputId": "8470ce83-416c-46b4-ed54-a88b3459469c"
      },
      "execution_count": 4,
      "outputs": [
        {
          "output_type": "stream",
          "name": "stdout",
          "text": [
            "'10a. Journey Data Extract 14Sep14-27Sep14.csv'\n",
            "'10b. Journey Data Extract 28Sep14-11Oct14.csv'\n",
            "'11a. Journey Data Extract 12Oct14-08Nov14.csv'\n",
            "'11b. Journey Data Extract 12Oct14-08Nov14.csv'\n",
            "'12a. Journey Data Extract 09Nov14-06Dec14.csv'\n",
            "'12b. Journey Data Extract 09Nov14-06Dec14.csv'\n",
            "'13a. Journey Data Extract 07Dec14-21Dec14.csv'\n",
            "'13b. Journey Data Extract 22Dec14-03Jan15.csv'\n",
            "'14. Journey Data Extract 08Dec13-04Jan14.csv'\n",
            "'1. Journey Data Extract 05Jan14-02Feb14.csv'\n",
            "'2. Journey Data Extract 03Feb14-01Mar14.csv'\n",
            "'3. Journey Data Extract 02Mar14-31Mar14.csv'\n",
            "'4. Journey Data Extract 01Apr14-26Apr14.csv'\n",
            "'5. Journey Data Extract 27Apr14-24May14.csv'\n",
            "'6. Journey Data Extract 25May14-21Jun14.csv'\n",
            "'7. Journey Data Extract 22Jun14-19Jul14.csv'\n",
            "'8a Journey Data Extract 20Jul14-31Jul14.csv'\n",
            "'8b Journey Data Extract 01Aug14-16Aug14.csv'\n",
            "'9a Journey Data Extract 17Aug14-31Aug14.csv'\n",
            "'9b Journey Data Extract 01Sep14-13Sep14.csv'\n",
            " cyclehireusagestats-2014.zip\n",
            " sample_data\n"
          ]
        }
      ]
    },
    {
      "cell_type": "markdown",
      "source": [
        "\n",
        "\n",
        "1.   Autumn starts from 1st october to 30th November.\n",
        "2.   Spring starts from 20th March untill 31 May.\n",
        "\n"
      ],
      "metadata": {
        "id": "UI6ufLlCmOtf"
      }
    },
    {
      "cell_type": "code",
      "source": [
        "file=\"./*Journey*csv\"\n",
        "spark = SparkSession.builder.appName(\"bikes\").getOrCreate()\n",
        "cycling_df = (spark.read.format(\"csv\")\n",
        "         .option(\"header\", \"true\")\n",
        "         .option(\"inferSchema\", \"true\")\n",
        "         .load(file))"
      ],
      "metadata": {
        "id": "_RQWXYORG3yd"
      },
      "execution_count": 5,
      "outputs": []
    },
    {
      "cell_type": "code",
      "source": [
        "cycling_df.printSchema()"
      ],
      "metadata": {
        "colab": {
          "base_uri": "https://localhost:8080/"
        },
        "id": "yV__gaPOk0g9",
        "outputId": "248d97e1-a59c-41b9-8f6e-e52c75f124db"
      },
      "execution_count": 6,
      "outputs": [
        {
          "output_type": "stream",
          "name": "stdout",
          "text": [
            "root\n",
            " |-- Rental Id: string (nullable = true)\n",
            " |-- Duration: string (nullable = true)\n",
            " |-- Bike Id: string (nullable = true)\n",
            " |-- End Date: string (nullable = true)\n",
            " |-- EndStation Id: string (nullable = true)\n",
            " |-- EndStation Name: string (nullable = true)\n",
            " |-- Start Date: string (nullable = true)\n",
            " |-- StartStation Id: string (nullable = true)\n",
            " |-- StartStation Name: string (nullable = true)\n",
            "\n"
          ]
        }
      ]
    },
    {
      "cell_type": "code",
      "source": [
        "cycling_df= cycling_df.withColumn(\"Start_Date\", to_date(split(cycling_df[\"Start Date\"], \" \")[0], \"dd/MM/yyyy\"))\n",
        "cycling_df= cycling_df.withColumn(\"Start_Time\", split(cycling_df[\"Start Date\"], \" \")[1])"
      ],
      "metadata": {
        "id": "HEaOEajoumYz"
      },
      "execution_count": 7,
      "outputs": []
    },
    {
      "cell_type": "code",
      "source": [
        "cycling_df.show(1)"
      ],
      "metadata": {
        "colab": {
          "base_uri": "https://localhost:8080/"
        },
        "id": "oITkTLRsvDtd",
        "outputId": "54d1ee22-b021-45ce-dd5e-1bad2ed19e75"
      },
      "execution_count": 8,
      "outputs": [
        {
          "output_type": "stream",
          "name": "stdout",
          "text": [
            "+---------+--------+-------+----------------+-------------+--------------------+----------------+---------------+--------------------+----------+----------+\n",
            "|Rental Id|Duration|Bike Id|        End Date|EndStation Id|     EndStation Name|      Start Date|StartStation Id|   StartStation Name|Start_Date|Start_Time|\n",
            "+---------+--------+-------+----------------+-------------+--------------------+----------------+---------------+--------------------+----------+----------+\n",
            "| 34263367|    1080|   9076|24/06/2014 00:57|          695|Islington Green, ...|24/06/2014 00:39|            311|Foley Street, Fit...|2014-06-24|     00:39|\n",
            "+---------+--------+-------+----------------+-------------+--------------------+----------------+---------------+--------------------+----------+----------+\n",
            "only showing top 1 row\n",
            "\n"
          ]
        }
      ]
    },
    {
      "cell_type": "code",
      "source": [
        "cycling_df.printSchema()"
      ],
      "metadata": {
        "colab": {
          "base_uri": "https://localhost:8080/"
        },
        "id": "w3ga7P2q1qcg",
        "outputId": "e99c643a-494d-496e-c8f7-0a2c592d4fa9"
      },
      "execution_count": 9,
      "outputs": [
        {
          "output_type": "stream",
          "name": "stdout",
          "text": [
            "root\n",
            " |-- Rental Id: string (nullable = true)\n",
            " |-- Duration: string (nullable = true)\n",
            " |-- Bike Id: string (nullable = true)\n",
            " |-- End Date: string (nullable = true)\n",
            " |-- EndStation Id: string (nullable = true)\n",
            " |-- EndStation Name: string (nullable = true)\n",
            " |-- Start Date: string (nullable = true)\n",
            " |-- StartStation Id: string (nullable = true)\n",
            " |-- StartStation Name: string (nullable = true)\n",
            " |-- Start_Date: date (nullable = true)\n",
            " |-- Start_Time: string (nullable = true)\n",
            "\n"
          ]
        }
      ]
    },
    {
      "cell_type": "code",
      "source": [
        "cycling_aut_spr_df = cycling_df.filter(cycling_df[\"Start_Date\"].between(\"2014-03-20\", \"2014-05-30\") |\n",
        "                                       cycling_df[\"Start_Date\"].between(\"2014-09-01\", \"2014-11-30\")).alias('cycling_aut_spr_df')"
      ],
      "metadata": {
        "id": "1aAyhDOPvZar"
      },
      "execution_count": 10,
      "outputs": []
    },
    {
      "cell_type": "code",
      "source": [
        "spring_df = cycling_aut_spr_df.filter(month(\"Start_Date\").isin([3,4,5]))\n",
        "autumn_df = cycling_aut_spr_df.filter(month(\"Start_Date\").isin([9,10,11]))"
      ],
      "metadata": {
        "id": "Nu71VfmS_ecz"
      },
      "execution_count": 11,
      "outputs": []
    },
    {
      "cell_type": "code",
      "source": [
        "autumn_df.show(2)"
      ],
      "metadata": {
        "colab": {
          "base_uri": "https://localhost:8080/"
        },
        "id": "hMy91xHP__w1",
        "outputId": "05704bf9-9c7d-4b84-c935-3ef2d7fadd6a"
      },
      "execution_count": 12,
      "outputs": [
        {
          "output_type": "stream",
          "name": "stdout",
          "text": [
            "+---------+--------+-------+----------------+-------------+--------------------+----------------+---------------+--------------------+----------+----------+\n",
            "|Rental Id|Duration|Bike Id|        End Date|EndStation Id|     EndStation Name|      Start Date|StartStation Id|   StartStation Name|Start_Date|Start_Time|\n",
            "+---------+--------+-------+----------------+-------------+--------------------+----------------+---------------+--------------------+----------+----------+\n",
            "| 37875851|     120|   3229|28/09/2014 00:02|          450|Jubilee Street, S...|28/09/2014 00:00|            443|Philpot Street, W...|2014-09-28|     00:00|\n",
            "| 37875861|    1080|   3283|28/09/2014 00:18|          645|Great Suffolk Str...|28/09/2014 00:00|             14|Belgrove Street ,...|2014-09-28|     00:00|\n",
            "+---------+--------+-------+----------------+-------------+--------------------+----------------+---------------+--------------------+----------+----------+\n",
            "only showing top 2 rows\n",
            "\n"
          ]
        }
      ]
    },
    {
      "cell_type": "code",
      "source": [
        "spring_duration = spring_df.select(\"Duration\").toPandas().to_numpy().ravel()\n",
        "autumn_duration = autumn_df.select(\"Duration\").toPandas().to_numpy().ravel()"
      ],
      "metadata": {
        "id": "m3XeYtcjmK1Y"
      },
      "execution_count": 13,
      "outputs": []
    },
    {
      "cell_type": "code",
      "source": [
        "from scipy.stats import ttest_ind\n",
        "ttest, p_value = ttest_ind(a=spring_duration.astype(np.int64), b=autumn_duration.astype(np.int64), equal_var = False)"
      ],
      "metadata": {
        "id": "NaJuerM3mLVI"
      },
      "execution_count": 14,
      "outputs": []
    },
    {
      "cell_type": "code",
      "source": [
        "spring_hires = spring_df.select(\"Duration\").toPandas().to_numpy().ravel()\n",
        "autumn_hires = autumn_df.select(\"Duration\").toPandas().to_numpy().ravel()"
      ],
      "metadata": {
        "id": "C7LLC0xr9vMZ"
      },
      "execution_count": 15,
      "outputs": []
    },
    {
      "cell_type": "code",
      "source": [
        "if p_value <0.05: \n",
        "  print (\"We reject the null hypothesis: there is a significant difference in the mean duration of bike rides between the autumn and spring seasons\")\n",
        "else:\n",
        "  print (\"We accept the null hypothesis: there is no significant difference in the mean duration of bike rides between the autumn and spring seasons\")"
      ],
      "metadata": {
        "colab": {
          "base_uri": "https://localhost:8080/"
        },
        "id": "o0-Amb3hokwE",
        "outputId": "f3b6d217-a8a3-4cb4-b333-46b7bb670154"
      },
      "execution_count": 44,
      "outputs": [
        {
          "output_type": "stream",
          "name": "stdout",
          "text": [
            "We reject the null hypothesis: there is a significant difference in the mean duration of bike rides between the autumn and spring seasons\n"
          ]
        }
      ]
    },
    {
      "cell_type": "markdown",
      "source": [
        "Importing the second dataset"
      ],
      "metadata": {
        "id": "o9c6Lq2DBHRW"
      }
    },
    {
      "cell_type": "code",
      "source": [
        "%%capture\n",
        "!wget https://raw.githubusercontent.com/Balenm/Bike_Rentals_PySpark/main/london_weather.csv"
      ],
      "metadata": {
        "id": "Sc079bgKBG3p"
      },
      "execution_count": 23,
      "outputs": []
    }
  ]
}